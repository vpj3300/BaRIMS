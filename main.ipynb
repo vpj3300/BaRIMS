{
 "cells": [
  {
   "cell_type": "code",
   "execution_count": 5,
   "id": "3b1d8f57-53bd-4d3f-9395-e08c90fdb29a",
   "metadata": {
    "executionCancelledAt": null,
    "executionTime": 47,
    "lastExecutedAt": 1718096261670,
    "lastExecutedByKernel": "7ed022ca-497d-4264-adf5-57b8fd91ddeb",
    "lastScheduledRunId": null,
    "lastSuccessfullyExecutedCode": "class Product:\n    pass\n\n\nclass Order:\n    pass\n"
   },
   "outputs": [],
   "source": [
    "class Product:\n",
    "    inventory = []  # Class-level variable to store all products. This is shared among all instances of Product.\n",
    "\n",
    "    def __init__(self, product_id, name, category, quantity, price, supplier):\n",
    "        # The __init__ method is the constructor. It initializes a new instance of the Product class.\n",
    "        self.product_id = product_id  # Instance variable to store the product's ID.\n",
    "        self.name = name  # Instance variable to store the product's name.\n",
    "        self.category = category  # Instance variable to store the product's category.\n",
    "        self.quantity = quantity  # Instance variable to store the quantity of the product.\n",
    "        self.price = price  # Instance variable to store the price of the product.\n",
    "        self.supplier = supplier  # Instance variable to store the supplier of the product.\n",
    "        Product.inventory.append(self)  # Add this new product instance to the class-level inventory list.\n",
    "\n",
    "    @classmethod\n",
    "    def add_product(cls, name, category, quantity, price, supplier):\n",
    "        # This is a class method that adds a new product to the inventory.\n",
    "        product_id = cls.inventory[-1].product_id + 1 if len(cls.inventory)>0 else 1  # Generate a new product ID by counting existing products and adding 1.\n",
    "        new_product = cls(product_id, name, category, quantity, price, supplier)  # Create a new product instance.\n",
    "        return \"Product added successfully\"  # Return a confirmation message.\n",
    "\n",
    "    @classmethod\n",
    "    def update_product(cls, product_id, quantity=None, price=None, supplier=None):\n",
    "        # This class method updates the details of an existing product.\n",
    "        for product in cls.inventory:  # Loop through the inventory to find the product with the given ID.\n",
    "            if product.product_id == product_id:  # Check if this is the product we want to update.\n",
    "                if quantity is not None:  # If a new quantity is provided, update it.\n",
    "                    product.quantity = quantity\n",
    "                if price is not None:  # If a new price is provided, update it.\n",
    "                    product.price = price\n",
    "                if supplier is not None:  # If a new supplier is provided, update it.\n",
    "                    product.supplier = supplier\n",
    "                return \"Product information updated successfully\"  # Return a confirmation message.\n",
    "        return \"Product not found\"  # If the product ID was not found, return this message.\n",
    "\n",
    "    @classmethod\n",
    "    def delete_product(cls, product_id):\n",
    "        # This class method deletes a product from the inventory.\n",
    "        for i, product in enumerate(cls.inventory):  # Loop through the inventory with index to find the product.\n",
    "            if product.product_id == product_id:  # Check if this is the product we want to delete.\n",
    "                del cls.inventory[i]  # Delete the product from the inventory list.\n",
    "                return \"Product deleted successfully\"  # Return a confirmation message.\n",
    "        return \"Product not found\"  # If the product ID was not found, return this message.\n",
    "\n",
    "\n",
    "class Order:\n",
    "    def __init__(self, order_id, products, customer_info=None):\n",
    "        # The __init__ method is the constructor. It initializes a new instance of the Order class.\n",
    "        self.order_id = order_id  # Instance variable to store the order's ID.\n",
    "        self.products = products  # Instance variable to store the list of products in the order. Each product is represented as a tuple (product_id, quantity).\n",
    "        self.customer_info = customer_info  # Instance variable to store optional customer information.\n",
    "\n",
    "    def place_order(self, product_id, quantity, customer_info=None):\n",
    "        # This method adds a product to the order.\n",
    "        for product in Product.inventory:\n",
    "            if product.product_id == product_id and product.quantity >= quantity: # Check that the product exist in the inventory and that there's stock\n",
    "                product.quantity -= quantity  # Update the stock of the product by reducing it by the ordered quantity\n",
    "                self.products.append((product_id, quantity))  # Add the product and quantity as a tuple to the order's products list.\n",
    "                if customer_info:  # If customer information is provided, update it.\n",
    "                    self.customer_info = customer_info\n",
    "                return f\"Order placed successfully. Order ID: {self.order_id}\"  # Return a confirmation message with the order ID.\n",
    "        return \"Order could not be placed. Product not found or insufficient quantity.\"\n"
   ]
  }
 ],
 "metadata": {
  "colab": {
   "name": "Welcome to DataCamp Workspaces.ipynb",
   "provenance": []
  },
  "editor": "DataLab",
  "kernelspec": {
   "display_name": "Python 3 (ipykernel)",
   "language": "python",
   "name": "python3"
  },
  "language_info": {
   "codemirror_mode": {
    "name": "ipython",
    "version": 3
   },
   "file_extension": ".py",
   "mimetype": "text/x-python",
   "name": "python",
   "nbconvert_exporter": "python",
   "pygments_lexer": "ipython3",
   "version": "3.8.10"
  }
 },
 "nbformat": 4,
 "nbformat_minor": 5
}
